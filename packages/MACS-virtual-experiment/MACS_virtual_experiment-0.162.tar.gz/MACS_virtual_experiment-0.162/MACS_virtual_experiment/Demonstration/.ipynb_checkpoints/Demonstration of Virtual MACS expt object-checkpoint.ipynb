{
 "cells": [
  {
   "cell_type": "code",
   "execution_count": 13,
   "metadata": {},
   "outputs": [
    {
     "name": "stdout",
     "output_type": "stream",
     "text": [
      "/media/sf_OneDrive_-_Johns_Hopkins/MACS_McStas_interface/MACS_virtual_experiment\n"
     ]
    }
   ],
   "source": [
    "import sys\n",
    "import os\n",
    "import numpy as np\n",
    "cwd = os.getcwd()\n",
    "#Add the directory of the module to the path.\n",
    "sys.path.append('/'.join(cwd.split('/')[0:-1]))\n",
    "from virtualMACS import virtualMACS\n",
    "print('/'.join(cwd.split('/')[0:-1]))"
   ]
  },
  {
   "cell_type": "markdown",
   "metadata": {},
   "source": [
    "# Initialize the object with a clear name and a cif file"
   ]
  },
  {
   "cell_type": "code",
   "execution_count": 2,
   "metadata": {},
   "outputs": [
    {
     "name": "stdout",
     "output_type": "stream",
     "text": [
      "WARNING: Chemical weight not in cif file. Placeholder value used but should be updated manually using: \n",
      " Material.formula_weight=(val)\n",
      "#########################\n",
      "Old simulations found in /media/sf_OneDrive_-_Johns_Hopkins/MACS_McStas_interface/MACS_virtual_experiment/Demonstration/test_experiment/Kidney_simulations/\n",
      " \n",
      "Successfully combined old simulations into /media/sf_OneDrive_-_Johns_Hopkins/MACS_McStas_interface/MACS_virtual_experiment/Demonstration/test_experiment/Kidney_simulations/test_experiment_total.csv\n",
      "\n",
      "Data matrix instantiated and ready to use.\n",
      "#########################\n"
     ]
    }
   ],
   "source": [
    "testobj = virtualMACS('test_experiment',cifName='TiO2.cif')\n",
    "testobj.sample.formula_weight=79.87\n",
    "#File I/O operations require sudo access. Update to your password below.\n",
    "testobj.sudo_password='password'"
   ]
  },
  {
   "cell_type": "markdown",
   "metadata": {},
   "source": [
    "## Set the sample parameters\n",
    "\n",
    "In this example, we use a box of the same dimensions as in the reference experiment. (4.3mm  x 3.3mm x 1.3 mm) (x,y,z)"
   ]
  },
  {
   "cell_type": "code",
   "execution_count": 3,
   "metadata": {},
   "outputs": [
    {
     "data": {
      "text/plain": [
       "\"\\ntestobj.sample.sample_shape='cylinder'\\ntestobj.sample.sample_length=0.02\\ntestobj.sample.sample_diameter_d=0.01\\n\""
      ]
     },
     "execution_count": 3,
     "metadata": {},
     "output_type": "execute_result"
    }
   ],
   "source": [
    "testobj.sample.sample_shape='box'\n",
    "testobj.sample.sample_widx=4.3e-3\n",
    "testobj.sample.sample_widy=3.3e-3\n",
    "testobj.sample.sample_widz=1.3e-3\n",
    "testobj.sample.sample_tilt=-30\n",
    "'''\n",
    "testobj.sample.sample_shape='cylinder'\n",
    "testobj.sample.sample_length=0.02\n",
    "testobj.sample.sample_diameter_d=0.01\n",
    "'''"
   ]
  },
  {
   "cell_type": "markdown",
   "metadata": {},
   "source": [
    "## Assign Monochromator Parameters\n",
    "In this example, we use Ei=5meV = Ef"
   ]
  },
  {
   "cell_type": "code",
   "execution_count": 4,
   "metadata": {},
   "outputs": [],
   "source": [
    "testobj.monochromator.Ei = 5.0\n",
    "testobj.monochromator.Ef = 5.0"
   ]
  },
  {
   "cell_type": "markdown",
   "metadata": {},
   "source": [
    "## Assign Kidney Parameters"
   ]
  },
  {
   "cell_type": "code",
   "execution_count": 5,
   "metadata": {},
   "outputs": [
    {
     "name": "stdout",
     "output_type": "stream",
     "text": [
      "Conversion of CIF to crystallographical LAU file successful. \n"
     ]
    },
    {
     "data": {
      "text/plain": [
       "1"
      ]
     },
     "execution_count": 5,
     "metadata": {},
     "output_type": "execute_result"
    }
   ],
   "source": [
    "testobj.kidney.Ef=5.0\n",
    "testobj.kidney.kidney_angle=-10.0\n",
    "testobj.sample.cif2lau()"
   ]
  },
  {
   "cell_type": "markdown",
   "metadata": {},
   "source": [
    "## Checking sample orientation and projection into lab frame is correct."
   ]
  },
  {
   "cell_type": "code",
   "execution_count": 6,
   "metadata": {},
   "outputs": [
    {
     "data": {
      "text/plain": [
       "2.731760312679979"
      ]
     },
     "execution_count": 6,
     "metadata": {},
     "output_type": "execute_result"
    }
   ],
   "source": [
    "testobj.sample.Qmag_HKL(1,1,0)"
   ]
  },
  {
   "cell_type": "code",
   "execution_count": 7,
   "metadata": {
    "scrolled": true
   },
   "outputs": [
    {
     "name": "stdout",
     "output_type": "stream",
     "text": [
      "Sample Lattice vectors\n",
      "\n",
      "a=4.6001\n",
      "alpha=90.0\n",
      "b=4.6001\n",
      "beta=90.0\n",
      "c=2.9288\n",
      "gamma=90.0\n",
      "\n",
      "Sample orientation U\n",
      "[1, 1, 0]\n",
      "Sample orientation v\n",
      "[0, 0, 1]\n",
      "\n",
      "Real Space projection of lattice vectors [ax,ay,az; bx,by,bz;cx,cy,cz]\n",
      "[[ 3.25276 -3.25276 -0.     ]\n",
      " [ 3.25276  3.25276 -0.     ]\n",
      " [ 0.       0.       2.9288 ]]\n",
      "\n",
      "Structure factors:\n",
      "|F(110)|^2 = 0.1782 barn\n",
      "|F(100)|^2 = 0.0 barn\n",
      "|F(1-10)|^2 = 0.1782 barn\n",
      "|F(001)|^2 = 0.0 barn\n"
     ]
    }
   ],
   "source": [
    "#Tilt the sample\n",
    "testobj.sample.crystal_axis_xrot=60.0\n",
    "testobj.sample.crystal_axis_zrot=-15.0\n",
    "testobj.sample.crystal_axis_zrot=0.0\n",
    "\n",
    "print('Sample Lattice vectors')\n",
    "print('')\n",
    "print('a='+str(testobj.sample.a))\n",
    "print('alpha='+str(testobj.sample.alpha))\n",
    "print('b='+str(testobj.sample.b))\n",
    "print('beta='+str(testobj.sample.beta))\n",
    "print('c='+str(testobj.sample.c))\n",
    "print('gamma='+str(testobj.sample.gamma))\n",
    "print('')\n",
    "print('Sample orientation U')\n",
    "print(testobj.sample.orient_u)\n",
    "testobj.sample.orient_u=[1,1,0]\n",
    "testobj.sample.orient_v=[0,0,1]\n",
    "print('Sample orientation v')\n",
    "print(testobj.sample.orient_v)\n",
    "print('')\n",
    "testobj.sample.project_sample_realspace()\n",
    "print('Real Space projection of lattice vectors [ax,ay,az; bx,by,bz;cx,cy,cz]')\n",
    "print(testobj.sample.labframe_mat)\n",
    "print('')\n",
    "print('Structure factors:')\n",
    "print('|F(110)|^2 = '+str(round(testobj.sample.fetch_F_HKL(1,1,0)[3],4))+' barn')\n",
    "print('|F(100)|^2 = '+str(round(testobj.sample.fetch_F_HKL(1,0,0)[3],4))+' barn')\n",
    "print('|F(1-10)|^2 = '+str(round(testobj.sample.fetch_F_HKL(1,-1,0)[3],4))+' barn')\n",
    "print('|F(001)|^2 = '+str(round(testobj.sample.fetch_F_HKL(0,0,1)[3],4))+' barn')\n",
    "\n"
   ]
  },
  {
   "cell_type": "markdown",
   "metadata": {},
   "source": [
    "## Check that some sample dependent cross sections are calculated correctly"
   ]
  },
  {
   "cell_type": "code",
   "execution_count": 8,
   "metadata": {},
   "outputs": [
    {
     "name": "stdout",
     "output_type": "stream",
     "text": [
      "sigma_abs =12.18076 barn/unit cell\n",
      "sigma_inc =2.8716 barn/unit cell\n"
     ]
    }
   ],
   "source": [
    "print('sigma_abs ='+str(testobj.sample.rho_abs)+' barn/unit cell')\n",
    "print('sigma_inc ='+str(testobj.sample.sigma_inc)+' barn/unit cell')"
   ]
  },
  {
   "cell_type": "markdown",
   "metadata": {},
   "source": [
    "## If the instrument file has not been prepared and compiled, do so now."
   ]
  },
  {
   "cell_type": "code",
   "execution_count": 9,
   "metadata": {
    "scrolled": false
   },
   "outputs": [],
   "source": [
    "useOld=False\n",
    "if useOld==True:\n",
    "    testobj.useOld=True\n",
    "    testobj.prepare_old_expt_directory()\n",
    "    #testobj.clean_expt_directory()\n",
    "else:\n",
    "    testobj.prepare_expt_directory()\n",
    "    testobj.edit_instr_file()\n",
    "    testobj.compileInstr()\n",
    "    testobj.compileMonochromator()\n",
    "\n",
    "testobj.n_mono=1e7\n",
    "testobj.n_sample=1e6"
   ]
  },
  {
   "cell_type": "markdown",
   "metadata": {},
   "source": [
    "## To clean the directory and prepare a new virtual experiment, try something like the following.\n",
    "\n",
    "Particularly important is to set the data matrix to false, as this will reset all of the results."
   ]
  },
  {
   "cell_type": "code",
   "execution_count": 10,
   "metadata": {},
   "outputs": [],
   "source": [
    "testobj.clean_expt_directory()\n",
    "testobj.unmount_ramdisk()\n",
    "testobj.data.data_matrix=False"
   ]
  },
  {
   "cell_type": "markdown",
   "metadata": {},
   "source": [
    "## Change the parameters slightly and run another scan"
   ]
  },
  {
   "cell_type": "code",
   "execution_count": 11,
   "metadata": {},
   "outputs": [
    {
     "data": {
      "text/plain": [
       "'\\ntestobj.monochromator.Ei=9.078\\ntestobj.kidney.Ef=9.078\\ntestobj.A3_angle = 67.37\\ntestobj.kidney.kidney_angle=3.0\\ntestobj.preserve_kidney_scan_files=False\\n\\ntestobj.runMonoScan()\\ntestobj.runKidneyScan()\\n\\n#This may be immediately converted to ng0 if you wish. \\n'"
      ]
     },
     "execution_count": 11,
     "metadata": {},
     "output_type": "execute_result"
    }
   ],
   "source": [
    "#Use parameters that Mads used for his test\n",
    "'''\n",
    "testobj.monochromator.Ei=9.078\n",
    "testobj.kidney.Ef=9.078\n",
    "testobj.A3_angle = 67.37\n",
    "testobj.kidney.kidney_angle=3.0\n",
    "testobj.preserve_kidney_scan_files=False\n",
    "\n",
    "testobj.runMonoScan()\n",
    "testobj.runKidneyScan()\n",
    "\n",
    "#This may be immediately converted to ng0 if you wish. \n",
    "'''"
   ]
  },
  {
   "cell_type": "markdown",
   "metadata": {},
   "source": [
    "## Scripting is simple. Simply specific a set of A3 angles and a list of incident energies and the package will handle the rest."
   ]
  },
  {
   "cell_type": "code",
   "execution_count": 12,
   "metadata": {},
   "outputs": [],
   "source": [
    "testobj.n_sample=1e6"
   ]
  },
  {
   "cell_type": "code",
   "execution_count": null,
   "metadata": {
    "scrolled": true
   },
   "outputs": [
    {
     "name": "stdout",
     "output_type": "stream",
     "text": [
      "RAMDISK mounted in /tmp/memory\n",
      "Ensure tmpfs is unmounted safely.\n",
      "Running these Ei values:[5.]\n",
      "/media/sf_OneDrive_-_Johns_Hopkins/MACS_McStas_interface/MACS_virtual_experiment/kidney/macs_kidneylimit_new.txt\n"
     ]
    }
   ],
   "source": [
    "testobj.kidney_angle_resolution=0.3\n",
    "testobj.preserve_kidney_scan_files=False\n",
    "testobj.script_scan(A3_list=np.arange(-70,-20,0.25),Ei_list=[5.0],\\\n",
    "                    num_threads=6,scan_title='_tio2_a3scan_cube')"
   ]
  },
  {
   "cell_type": "code",
   "execution_count": null,
   "metadata": {},
   "outputs": [],
   "source": [
    "testobj.data.load_data_matrix_from_csv('_tio2_a3scan_cube_dataMatrix.csv')\n",
    "testobj.data.write_data_to_ng0('tio2_a3scan_cube.ng0')"
   ]
  },
  {
   "cell_type": "markdown",
   "metadata": {},
   "source": [
    "## It is also simple to emulate an experimental scan using the same values of A3, kidney angle, Ei, and Ef"
   ]
  },
  {
   "cell_type": "code",
   "execution_count": null,
   "metadata": {
    "scrolled": false
   },
   "outputs": [],
   "source": [
    "testobj.data.data_matrix=False\n",
    "sample_ng0 = 'Example_ng0_files/fpx78891.ng0'\n",
    "testobj.n_sample=1e6\n",
    "\n",
    "testobj.simulate_ng0(sample_ng0,n_threads=8)"
   ]
  },
  {
   "cell_type": "markdown",
   "metadata": {},
   "source": [
    "## We can also do this for a directory of ng0 files"
   ]
  },
  {
   "cell_type": "code",
   "execution_count": null,
   "metadata": {
    "scrolled": true
   },
   "outputs": [],
   "source": [
    "ngo_dir = 'Example_ng0_files/'\n",
    "#testobj.simulate_ng0dir(ngo_dir,n_threads=6)"
   ]
  },
  {
   "cell_type": "markdown",
   "metadata": {},
   "source": [
    "## At any point the files in the kidney scan folder can be converted into MSlice readable ng0 files. The files may be divided into individual Ei values or combined into a single larger one. If they originate from ng0 files, they may also be individual ng0 files corresponding to their origin files"
   ]
  },
  {
   "cell_type": "code",
   "execution_count": 10,
   "metadata": {
    "scrolled": true
   },
   "outputs": [
    {
     "ename": "ValueError",
     "evalue": "No objects to concatenate",
     "output_type": "error",
     "traceback": [
      "\u001b[0;31m---------------------------------------------------------------------------\u001b[0m",
      "\u001b[0;31mValueError\u001b[0m                                Traceback (most recent call last)",
      "\u001b[0;32m<ipython-input-10-d6fc50b3ceb8>\u001b[0m in \u001b[0;36m<module>\u001b[0;34m\u001b[0m\n\u001b[1;32m      1\u001b[0m \u001b[0;31m#Here we combine any scans that exist individually and append them to the data holder class\u001b[0m\u001b[0;34m\u001b[0m\u001b[0;34m\u001b[0m\u001b[0;34m\u001b[0m\u001b[0m\n\u001b[0;32m----> 2\u001b[0;31m \u001b[0mtestobj\u001b[0m\u001b[0;34m.\u001b[0m\u001b[0mdata\u001b[0m\u001b[0;34m.\u001b[0m\u001b[0mcombine_csv_scans\u001b[0m\u001b[0;34m(\u001b[0m\u001b[0mpreserve_old\u001b[0m\u001b[0;34m=\u001b[0m\u001b[0;32mTrue\u001b[0m\u001b[0;34m,\u001b[0m\u001b[0mflagstr\u001b[0m\u001b[0;34m=\u001b[0m\u001b[0;34m'_combined_'\u001b[0m\u001b[0;34m)\u001b[0m\u001b[0;34m\u001b[0m\u001b[0;34m\u001b[0m\u001b[0m\n\u001b[0m\u001b[1;32m      3\u001b[0m \u001b[0mtestobj\u001b[0m\u001b[0;34m.\u001b[0m\u001b[0mdata\u001b[0m\u001b[0;34m.\u001b[0m\u001b[0mload_data_matrix_from_csv\u001b[0m\u001b[0;34m(\u001b[0m\u001b[0;34m)\u001b[0m\u001b[0;34m\u001b[0m\u001b[0;34m\u001b[0m\u001b[0m\n",
      "\u001b[0;32m/media/sf_OneDrive_-_Johns_Hopkins/MACS_McStas_interface/MACS_virtual_experiment/macsdata/macsdata.py\u001b[0m in \u001b[0;36mcombine_csv_scans\u001b[0;34m(self, preserve_old, flagstr)\u001b[0m\n\u001b[1;32m    255\u001b[0m                                         \u001b[0mdf\u001b[0m \u001b[0;34m=\u001b[0m\u001b[0mpd\u001b[0m\u001b[0;34m.\u001b[0m\u001b[0mread_csv\u001b[0m\u001b[0;34m(\u001b[0m\u001b[0mfname\u001b[0m\u001b[0;34m,\u001b[0m\u001b[0mheader\u001b[0m\u001b[0;34m=\u001b[0m\u001b[0;36m0\u001b[0m\u001b[0;34m,\u001b[0m\u001b[0mindex_col\u001b[0m\u001b[0;34m=\u001b[0m\u001b[0;36m0\u001b[0m\u001b[0;34m)\u001b[0m\u001b[0;34m\u001b[0m\u001b[0;34m\u001b[0m\u001b[0m\n\u001b[1;32m    256\u001b[0m                                         \u001b[0mflist\u001b[0m\u001b[0;34m.\u001b[0m\u001b[0mappend\u001b[0m\u001b[0;34m(\u001b[0m\u001b[0mdf\u001b[0m\u001b[0;34m)\u001b[0m\u001b[0;34m\u001b[0m\u001b[0;34m\u001b[0m\u001b[0m\n\u001b[0;32m--> 257\u001b[0;31m                 \u001b[0mdata_matrix\u001b[0m\u001b[0;34m=\u001b[0m\u001b[0mpd\u001b[0m\u001b[0;34m.\u001b[0m\u001b[0mconcat\u001b[0m\u001b[0;34m(\u001b[0m\u001b[0mflist\u001b[0m\u001b[0;34m,\u001b[0m\u001b[0maxis\u001b[0m\u001b[0;34m=\u001b[0m\u001b[0;36m0\u001b[0m\u001b[0;34m,\u001b[0m\u001b[0mignore_index\u001b[0m\u001b[0;34m=\u001b[0m\u001b[0;32mTrue\u001b[0m\u001b[0;34m)\u001b[0m\u001b[0;34m\u001b[0m\u001b[0;34m\u001b[0m\u001b[0m\n\u001b[0m\u001b[1;32m    258\u001b[0m                 \u001b[0;31m#delete all of the previous files\u001b[0m\u001b[0;34m\u001b[0m\u001b[0;34m\u001b[0m\u001b[0;34m\u001b[0m\u001b[0m\n\u001b[1;32m    259\u001b[0m                 \u001b[0;32mif\u001b[0m \u001b[0mpreserve_old\u001b[0m\u001b[0;34m==\u001b[0m\u001b[0;32mFalse\u001b[0m \u001b[0;32mand\u001b[0m \u001b[0mflagstr\u001b[0m\u001b[0;34m==\u001b[0m\u001b[0;32mFalse\u001b[0m\u001b[0;34m:\u001b[0m\u001b[0;34m\u001b[0m\u001b[0;34m\u001b[0m\u001b[0m\n",
      "\u001b[0;32m~/miniconda3/envs/mantid/lib/python3.6/site-packages/pandas/core/reshape/concat.py\u001b[0m in \u001b[0;36mconcat\u001b[0;34m(objs, axis, join, ignore_index, keys, levels, names, verify_integrity, sort, copy)\u001b[0m\n\u001b[1;32m    279\u001b[0m         \u001b[0mverify_integrity\u001b[0m\u001b[0;34m=\u001b[0m\u001b[0mverify_integrity\u001b[0m\u001b[0;34m,\u001b[0m\u001b[0;34m\u001b[0m\u001b[0;34m\u001b[0m\u001b[0m\n\u001b[1;32m    280\u001b[0m         \u001b[0mcopy\u001b[0m\u001b[0;34m=\u001b[0m\u001b[0mcopy\u001b[0m\u001b[0;34m,\u001b[0m\u001b[0;34m\u001b[0m\u001b[0;34m\u001b[0m\u001b[0m\n\u001b[0;32m--> 281\u001b[0;31m         \u001b[0msort\u001b[0m\u001b[0;34m=\u001b[0m\u001b[0msort\u001b[0m\u001b[0;34m,\u001b[0m\u001b[0;34m\u001b[0m\u001b[0;34m\u001b[0m\u001b[0m\n\u001b[0m\u001b[1;32m    282\u001b[0m     )\n\u001b[1;32m    283\u001b[0m \u001b[0;34m\u001b[0m\u001b[0m\n",
      "\u001b[0;32m~/miniconda3/envs/mantid/lib/python3.6/site-packages/pandas/core/reshape/concat.py\u001b[0m in \u001b[0;36m__init__\u001b[0;34m(self, objs, axis, join, keys, levels, names, ignore_index, verify_integrity, copy, sort)\u001b[0m\n\u001b[1;32m    327\u001b[0m \u001b[0;34m\u001b[0m\u001b[0m\n\u001b[1;32m    328\u001b[0m         \u001b[0;32mif\u001b[0m \u001b[0mlen\u001b[0m\u001b[0;34m(\u001b[0m\u001b[0mobjs\u001b[0m\u001b[0;34m)\u001b[0m \u001b[0;34m==\u001b[0m \u001b[0;36m0\u001b[0m\u001b[0;34m:\u001b[0m\u001b[0;34m\u001b[0m\u001b[0;34m\u001b[0m\u001b[0m\n\u001b[0;32m--> 329\u001b[0;31m             \u001b[0;32mraise\u001b[0m \u001b[0mValueError\u001b[0m\u001b[0;34m(\u001b[0m\u001b[0;34m\"No objects to concatenate\"\u001b[0m\u001b[0;34m)\u001b[0m\u001b[0;34m\u001b[0m\u001b[0;34m\u001b[0m\u001b[0m\n\u001b[0m\u001b[1;32m    330\u001b[0m \u001b[0;34m\u001b[0m\u001b[0m\n\u001b[1;32m    331\u001b[0m         \u001b[0;32mif\u001b[0m \u001b[0mkeys\u001b[0m \u001b[0;32mis\u001b[0m \u001b[0;32mNone\u001b[0m\u001b[0;34m:\u001b[0m\u001b[0;34m\u001b[0m\u001b[0;34m\u001b[0m\u001b[0m\n",
      "\u001b[0;31mValueError\u001b[0m: No objects to concatenate"
     ]
    }
   ],
   "source": [
    "#Here we combine any scans that exist individually and append them to the data holder class\n",
    "#testobj.data.combine_csv_scans(preserve_old=True,flagstr='_combined_')\n",
    "testobj.data.load_data_matrix_from_csv()"
   ]
  },
  {
   "cell_type": "code",
   "execution_count": 12,
   "metadata": {},
   "outputs": [
    {
     "data": {
      "text/plain": [
       "1"
      ]
     },
     "execution_count": 12,
     "metadata": {},
     "output_type": "execute_result"
    }
   ],
   "source": [
    "#The data is now written to a MACS style file for comparison in MSlice.\n",
    "testobj.data.write_data_to_ng0(filename='_cube_tio2_a3scan.ng0',beta_1=testobj.monochromator.beta_1,\\\n",
    "                               beta_2=testobj.monochromator.beta_2)"
   ]
  },
  {
   "cell_type": "code",
   "execution_count": null,
   "metadata": {},
   "outputs": [],
   "source": [
    "testobj.data.combine_all_csv()\n",
    "testobj.data.load_data_matrix_from_csv('_total.csv')"
   ]
  },
  {
   "cell_type": "code",
   "execution_count": null,
   "metadata": {},
   "outputs": [],
   "source": [
    "testobj.data.write_data_to_ng0(filename='_a3scan.ng0')"
   ]
  },
  {
   "cell_type": "code",
   "execution_count": null,
   "metadata": {},
   "outputs": [],
   "source": []
  }
 ],
 "metadata": {
  "kernelspec": {
   "display_name": "Python 3",
   "language": "python",
   "name": "python3"
  },
  "language_info": {
   "codemirror_mode": {
    "name": "ipython",
    "version": 3
   },
   "file_extension": ".py",
   "mimetype": "text/x-python",
   "name": "python",
   "nbconvert_exporter": "python",
   "pygments_lexer": "ipython3",
   "version": "3.6.10"
  }
 },
 "nbformat": 4,
 "nbformat_minor": 4
}
