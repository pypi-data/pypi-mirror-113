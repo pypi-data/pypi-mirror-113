{
 "cells": [
  {
   "cell_type": "markdown",
   "metadata": {},
   "source": [
    "# Finding the MSD uncertainties from a VASP file\n",
    "\n",
    "Using ``kinisi`` to obtain the mean-squared displacement and uncertainty in a VASP Xdatcar type file is really straightforward and involves using the ``MSDAnalyzer`` class."
   ]
  },
  {
   "cell_type": "code",
   "execution_count": null,
   "metadata": {},
   "outputs": [],
   "source": [
    "import numpy as np\n",
    "from kinisi.analyze import MSDAnalyzer\n",
    "np.random.seed(1)"
   ]
  },
  {
   "cell_type": "markdown",
   "metadata": {},
   "source": [
    "There the ``params`` dictionary describes details about the simulation, and are documented in the [parser module](./parser.html)."
   ]
  },
  {
   "cell_type": "code",
   "execution_count": null,
   "metadata": {},
   "outputs": [],
   "source": [
    "params = {'specie': 'Li',\n",
    "          'time_step': 2.0,\n",
    "          'step_skip': 50,\n",
    "          'min_obs': 50}"
   ]
  },
  {
   "cell_type": "code",
   "execution_count": null,
   "metadata": {},
   "outputs": [],
   "source": [
    "msd = MSDAnalyzer('example_XDATCAR.gz', params)"
   ]
  },
  {
   "cell_type": "markdown",
   "metadata": {},
   "source": [
    "The ``MSDAnalyzer`` will perform the block-bootstrapping process to obtain the displacements and uncertainties. \n",
    "\n",
    "Then the MSD as a function of timestep (`dt`) can be plotted."
   ]
  },
  {
   "cell_type": "code",
   "execution_count": null,
   "metadata": {},
   "outputs": [],
   "source": [
    "import matplotlib.pyplot as plt"
   ]
  },
  {
   "cell_type": "code",
   "execution_count": null,
   "metadata": {},
   "outputs": [],
   "source": [
    "plt.errorbar(msd.dt, msd.msd, msd.msd_err)\n",
    "plt.ylabel('MSD/Å$^2$')\n",
    "plt.xlabel('$\\Delta t$/fs')\n",
    "plt.show()"
   ]
  }
 ],
 "metadata": {
  "kernelspec": {
   "display_name": "Python [conda env:research]",
   "language": "python",
   "name": "conda-env-research-py"
  },
  "language_info": {
   "codemirror_mode": {
    "name": "ipython",
    "version": 3
   },
   "file_extension": ".py",
   "mimetype": "text/x-python",
   "name": "python",
   "nbconvert_exporter": "python",
   "pygments_lexer": "ipython3",
   "version": "3.9.1"
  }
 },
 "nbformat": 4,
 "nbformat_minor": 4
}
