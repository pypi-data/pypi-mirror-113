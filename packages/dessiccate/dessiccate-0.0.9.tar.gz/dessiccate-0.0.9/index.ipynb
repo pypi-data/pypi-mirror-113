{
 "cells": [
  {
   "cell_type": "code",
   "execution_count": null,
   "metadata": {
    "id": "8ErlGgX8suRQ"
   },
   "outputs": [],
   "source": [
    "#hide\n",
    "from dessiccate.core import *"
   ]
  },
  {
   "cell_type": "markdown",
   "metadata": {
    "id": "kFgZcCl-suRT"
   },
   "source": [
    "# `dessicate`: A library to stay DRY.\n",
    "\n",
    "\n",
    "> **Dessiccate** (*verb*): remove the moisture from (something); cause to become completely dry. <br></br>\n",
    "> **Dry** (*adj*): without moisture. Also, an acronym for **DON'T REPEAT YOURSELF**.\n",
    "\n",
    "This project was started to house functions the author uses a lot so he doesn't have to writ them over and over again. I hope you find some of them useful!"
   ]
  },
  {
   "cell_type": "markdown",
   "metadata": {
    "id": "0JOmlOafsuRU"
   },
   "source": [
    "## Install"
   ]
  },
  {
   "cell_type": "markdown",
   "metadata": {
    "id": "OfEeme6EsuRU"
   },
   "source": [
    "`pip install dessiccate`"
   ]
  }
 ],
 "metadata": {
  "colab": {
   "collapsed_sections": [],
   "name": "index.ipynb",
   "provenance": []
  },
  "kernelspec": {
   "display_name": "Python 3",
   "language": "python",
   "name": "python3"
  },
  "language_info": {
   "codemirror_mode": {
    "name": "ipython",
    "version": 3
   },
   "file_extension": ".py",
   "mimetype": "text/x-python",
   "name": "python",
   "nbconvert_exporter": "python",
   "pygments_lexer": "ipython3",
   "version": "3.7.10"
  }
 },
 "nbformat": 4,
 "nbformat_minor": 4
}
