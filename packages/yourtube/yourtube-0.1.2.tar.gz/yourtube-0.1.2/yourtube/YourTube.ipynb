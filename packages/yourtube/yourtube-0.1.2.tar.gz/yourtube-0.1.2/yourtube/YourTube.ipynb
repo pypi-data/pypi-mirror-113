{
 "cells": [
  {
   "cell_type": "code",
   "execution_count": 1,
   "metadata": {
    "heading_collapsed": "false"
   },
   "outputs": [],
   "source": [
    "%load_ext lab_black\n",
    "import networkx as nx\n",
    "import community as community_louvain\n",
    "import numpy as np\n",
    "import functools\n",
    "import webbrowser\n",
    "from time import time\n",
    "from IPython.core.display import display, HTML\n",
    "from IPython.display import Javascript\n",
    "from scipy.cluster.hierarchy import cut_tree, to_tree, leaves_list\n",
    "from ipywidgets import Button, HBox, VBox, Output, Layout, Image\n",
    "from ipyevents import Event\n",
    "\n",
    "from krakow import krakow\n",
    "from clustering_helpers import plot_dendrogram, normalized_dasgupta_cost\n",
    "\n",
    "from scrape_helpers import scrape\n",
    "\n",
    "from common import (\n",
    "    save_graph,\n",
    "    load_graph,\n",
    "    id_to_url,\n",
    "    id_to_thumbnail,\n",
    "    get_from_playlists_from_time_range,\n",
    ")\n",
    "\n",
    "# import matplotlib.cm as cm\n",
    "# import matplotlib.pyplot as plt\n",
    "\n",
    "balance = 2.1\n",
    "num_of_columns = 3\n",
    "column_width = 1200 / num_of_columns"
   ]
  },
  {
   "cell_type": "code",
   "execution_count": 4,
   "metadata": {
    "heading_collapsed": "false"
   },
   "outputs": [
    {
     "name": "stdout",
     "output_type": "stream",
     "text": [
      "graph loaded\n"
     ]
    }
   ],
   "source": [
    "G = load_graph()"
   ]
  },
  {
   "cell_type": "code",
   "execution_count": 3,
   "metadata": {},
   "outputs": [],
   "source": [
    "def window_open(_, url):\n",
    "    webbrowser.open(url)\n",
    "    # alternative is to use Javascript https://stackoverflow.com/a/61900572/11756613\n",
    "    # and it works even when jupyter is remote\n",
    "    # but here, when called by an event, it's broken for some reason"
   ]
  },
  {
   "cell_type": "code",
   "execution_count": 4,
   "metadata": {
    "heading_collapsed": "false"
   },
   "outputs": [],
   "source": [
    "def sort_nodes_by_in_degree(G, nodes):\n",
    "    recs = sorted(G.subgraph(nodes).in_degree(), key=lambda pair: pair[1], reverse=True)\n",
    "    ids, scores = zip(*recs)\n",
    "    return ids, scores\n",
    "\n",
    "\n",
    "# def recommend(SubG, pickiness=0):\n",
    "#     # this line recommends very normie videos\n",
    "#     # it's equivalent to pickiness==0\n",
    "#     # recs = sorted(SubG.in_degree(), key=lambda pair: pair[1], reverse=True)\n",
    "\n",
    "#     # to be honest, I don't fully understand this part\n",
    "#     # but it works better than the one on top:\n",
    "#     # first limit recs only to the best ones\n",
    "#     # this way, we'll omit most general normie recommendations later\n",
    "#     best_recs = [node for node, in_degree in SubG.in_degree() if in_degree >= pickiness]\n",
    "#     #     best_recs = [node for node, degree in SubG.degree() if degree >= pickiness]\n",
    "\n",
    "#     ids, scores = sort_nodes_by_in_degree(SubG, best_recs)\n",
    "#     return ids, scores\n",
    "\n",
    "\n",
    "def display_video_links(G, ids, prefixes=None, show_first=15):\n",
    "    if prefixes is None:\n",
    "        prefixes = [\"\"] * len(ids)\n",
    "\n",
    "    for id_, prefix in list(zip(ids, prefixes))[:show_first]:\n",
    "        if \"title\" not in G.nodes[id_] or G.nodes[id_][\"title\"] is None:\n",
    "            scrape(id_, G)\n",
    "            if \"title\" not in G.nodes[id_]:\n",
    "                # scrapig failed - probably video is down\n",
    "                continue\n",
    "\n",
    "        url = id_to_url.format(id_)\n",
    "        title = G.nodes[id_][\"title\"]\n",
    "\n",
    "        image_url = id_to_thumbnail.format(id_)\n",
    "        img = Image.from_url(image_url)\n",
    "        event = Event(source=img, watched_events=[\"click\"])\n",
    "        func = functools.partial(window_open, url=url)\n",
    "        event.on_dom_event(func)\n",
    "        display(img)\n",
    "        print(title)\n",
    "        # display(HTML(f\"\"\"<a href=\"{url}\">{prefix} {title}</a>\"\"\"))\n",
    "        # display(HTML(f\"\"\"<a href=\"{url}\"><img src=\"{image_url}\"></a>\"\"\"))\n",
    "        # display(HTML(f\"\"\"<textarea rows=\"3\">{prefix} {title}</textarea>\"\"\"))\n",
    "        print()\n",
    "        print()\n",
    "\n",
    "    save_graph(G)"
   ]
  },
  {
   "cell_type": "code",
   "execution_count": 5,
   "metadata": {},
   "outputs": [
    {
     "name": "stdout",
     "output_type": "stream",
     "text": [
      "sources:  0\n",
      "number of videos:  0\n"
     ]
    }
   ],
   "source": [
    "seconds_in_year = 60 * 60 * 24 * 365\n",
    "start_time = time() - seconds_in_year * 3\n",
    "sources = get_from_playlists_from_time_range(G, start_time)\n",
    "print(\"sources: \", len(sources))\n",
    "\n",
    "RecentDirected = G.edge_subgraph(G.out_edges(sources))\n",
    "\n",
    "# RecentDirectedNeighborhood = G.edge_subgraph(G.out_edges(RecentDirected.nodes))\n",
    "# Recent = RecentDirectedNeighborhood.to_undirected()\n",
    "Recent = RecentDirected.to_undirected()\n",
    "\n",
    "print(\"number of videos: \", Recent.number_of_nodes())"
   ]
  },
  {
   "cell_type": "code",
   "execution_count": 6,
   "metadata": {},
   "outputs": [
    {
     "ename": "IndexError",
     "evalue": "list index out of range",
     "output_type": "error",
     "traceback": [
      "\u001b[0;31m---------------------------------------------------------------------------\u001b[0m",
      "\u001b[0;31mIndexError\u001b[0m                                Traceback (most recent call last)",
      "\u001b[0;32m/tmp/ipykernel_31841/1206296481.py\u001b[0m in \u001b[0;36m<module>\u001b[0;34m\u001b[0m\n\u001b[1;32m      3\u001b[0m \u001b[0;31m# for el in components[:5]:\u001b[0m\u001b[0;34m\u001b[0m\u001b[0;34m\u001b[0m\u001b[0;34m\u001b[0m\u001b[0m\n\u001b[1;32m      4\u001b[0m \u001b[0;31m#     print(len(el))\u001b[0m\u001b[0;34m\u001b[0m\u001b[0;34m\u001b[0m\u001b[0;34m\u001b[0m\u001b[0m\n\u001b[0;32m----> 5\u001b[0;31m \u001b[0mmain_component\u001b[0m \u001b[0;34m=\u001b[0m \u001b[0mcomponents\u001b[0m\u001b[0;34m[\u001b[0m\u001b[0;36m0\u001b[0m\u001b[0;34m]\u001b[0m\u001b[0;34m\u001b[0m\u001b[0;34m\u001b[0m\u001b[0m\n\u001b[0m\u001b[1;32m      6\u001b[0m \u001b[0mMain\u001b[0m \u001b[0;34m=\u001b[0m \u001b[0mRecent\u001b[0m\u001b[0;34m.\u001b[0m\u001b[0msubgraph\u001b[0m\u001b[0;34m(\u001b[0m\u001b[0mmain_component\u001b[0m\u001b[0;34m)\u001b[0m\u001b[0;34m\u001b[0m\u001b[0;34m\u001b[0m\u001b[0m\n",
      "\u001b[0;31mIndexError\u001b[0m: list index out of range"
     ]
    }
   ],
   "source": [
    "# choose only the biggest connected component\n",
    "components = sorted(nx.connected_components(Recent), key=len, reverse=True)\n",
    "# for el in components[:5]:\n",
    "#     print(len(el))\n",
    "main_component = components[0]\n",
    "Main = Recent.subgraph(main_component)"
   ]
  },
  {
   "cell_type": "code",
   "execution_count": null,
   "metadata": {},
   "outputs": [],
   "source": []
  },
  {
   "cell_type": "code",
   "execution_count": null,
   "metadata": {},
   "outputs": [],
   "source": [
    "D = krakow(Main, balance=balance)\n",
    "\n",
    "tree = to_tree(D)\n",
    "\n",
    "plot_dendrogram(D, clusters_limit=400, width=22)"
   ]
  },
  {
   "cell_type": "code",
   "execution_count": 7,
   "metadata": {},
   "outputs": [],
   "source": [
    "# normalized_dasgupta_cost(Main, D)"
   ]
  },
  {
   "cell_type": "code",
   "execution_count": 8,
   "metadata": {},
   "outputs": [],
   "source": [
    "layout = Layout(width=f\"{column_width}px\")\n",
    "outputs = [Output(layout=layout) for _ in range(num_of_columns)]\n",
    "\n",
    "whole_output = HBox(outputs)"
   ]
  },
  {
   "cell_type": "code",
   "execution_count": 9,
   "metadata": {},
   "outputs": [
    {
     "ename": "NameError",
     "evalue": "name 'Main' is not defined",
     "output_type": "error",
     "traceback": [
      "\u001b[0;31m---------------------------------------------------------------------------\u001b[0m",
      "\u001b[0;31mNameError\u001b[0m                                 Traceback (most recent call last)",
      "\u001b[0;32m/tmp/ipykernel_31841/2624918094.py\u001b[0m in \u001b[0;36m<module>\u001b[0;34m\u001b[0m\n\u001b[0;32m----> 1\u001b[0;31m \u001b[0mmain_ids_list\u001b[0m \u001b[0;34m=\u001b[0m \u001b[0mnp\u001b[0m\u001b[0;34m.\u001b[0m\u001b[0marray\u001b[0m\u001b[0;34m(\u001b[0m\u001b[0mMain\u001b[0m\u001b[0;34m.\u001b[0m\u001b[0mnodes\u001b[0m\u001b[0;34m)\u001b[0m\u001b[0;34m\u001b[0m\u001b[0;34m\u001b[0m\u001b[0m\n\u001b[0m\u001b[1;32m      2\u001b[0m \u001b[0;34m\u001b[0m\u001b[0m\n\u001b[1;32m      3\u001b[0m \u001b[0;34m\u001b[0m\u001b[0m\n\u001b[1;32m      4\u001b[0m \u001b[0;32mdef\u001b[0m \u001b[0msplit_into_n_children\u001b[0m\u001b[0;34m(\u001b[0m\u001b[0mtree\u001b[0m\u001b[0;34m,\u001b[0m \u001b[0mn\u001b[0m\u001b[0;34m)\u001b[0m\u001b[0;34m:\u001b[0m\u001b[0;34m\u001b[0m\u001b[0;34m\u001b[0m\u001b[0m\n\u001b[1;32m      5\u001b[0m     \u001b[0mchildren\u001b[0m \u001b[0;34m=\u001b[0m \u001b[0;34m[\u001b[0m\u001b[0mtree\u001b[0m\u001b[0;34m]\u001b[0m\u001b[0;34m\u001b[0m\u001b[0;34m\u001b[0m\u001b[0m\n",
      "\u001b[0;31mNameError\u001b[0m: name 'Main' is not defined"
     ]
    }
   ],
   "source": [
    "main_ids_list = np.array(Main.nodes)\n",
    "\n",
    "\n",
    "def split_into_n_children(tree, n):\n",
    "    children = [tree]\n",
    "\n",
    "    while len(children) < n:\n",
    "        index_of_biggest = np.argmax([child.count for child in children])\n",
    "        to_split = children[index_of_biggest]\n",
    "        splitten = [to_split.left, to_split.right]\n",
    "        children[index_of_biggest : index_of_biggest + 1] = splitten\n",
    "        # print([child.count for child in children])\n",
    "\n",
    "    return children\n",
    "\n",
    "\n",
    "def update_displayed_videos():\n",
    "    global children\n",
    "    try:\n",
    "        children = split_into_n_children(tree, n=num_of_columns)\n",
    "        clusters = [child.pre_order() for child in children]\n",
    "\n",
    "    except AttributeError as e:\n",
    "        print(\"already on the lowest cluster\")\n",
    "        # maybe log into some additional message output\n",
    "        return\n",
    "\n",
    "    for output, cluster in zip(outputs, clusters):\n",
    "        output.clear_output(wait=True)\n",
    "\n",
    "        with output:\n",
    "            video_ids_in_cluster = main_ids_list[cluster]\n",
    "            ids, scores = sort_nodes_by_in_degree(RecentDirected, video_ids_in_cluster)\n",
    "            display_video_links(G, ids)  # , scores)"
   ]
  },
  {
   "cell_type": "code",
   "execution_count": 10,
   "metadata": {},
   "outputs": [],
   "source": [
    "def choose_column(event, i):\n",
    "    global tree\n",
    "    tree = children[i]\n",
    "    update_displayed_videos()\n",
    "\n",
    "\n",
    "for i, output in enumerate(outputs):\n",
    "    event = Event(source=output, watched_events=[\"auxclick\"])\n",
    "    func = functools.partial(choose_column, i=i)\n",
    "    event.on_dom_event(func)"
   ]
  },
  {
   "cell_type": "code",
   "execution_count": null,
   "metadata": {},
   "outputs": [],
   "source": [
    "update_displayed_videos()\n",
    "whole_output"
   ]
  },
  {
   "cell_type": "code",
   "execution_count": null,
   "metadata": {},
   "outputs": [],
   "source": []
  }
 ],
 "metadata": {
  "kernelspec": {
   "display_name": "youtube-recommender",
   "language": "python",
   "name": "youtube-recommender"
  },
  "language_info": {
   "codemirror_mode": {
    "name": "ipython",
    "version": 3
   },
   "file_extension": ".py",
   "mimetype": "text/x-python",
   "name": "python",
   "nbconvert_exporter": "python",
   "pygments_lexer": "ipython3",
   "version": "3.9.6"
  }
 },
 "nbformat": 4,
 "nbformat_minor": 4
}
