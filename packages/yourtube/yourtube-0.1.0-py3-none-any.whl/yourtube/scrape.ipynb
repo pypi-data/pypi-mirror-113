{
 "cells": [
  {
   "cell_type": "code",
   "execution_count": null,
   "metadata": {},
   "outputs": [],
   "source": [
    "%load_ext lab_black\n",
    "import os\n",
    "import re\n",
    "import json\n",
    "import csv\n",
    "import datetime\n",
    "import requests\n",
    "from time import time\n",
    "from tqdm import tqdm\n",
    "\n",
    "from common import save_graph, load_graph, get_from_playlists_from_time_range, id_to_url\n",
    "from scrape_helpers import get_exported_youtube_playlist_ids, scrape_from_list\n",
    "\n",
    "seconds_in_month = 60 * 60 * 24 * 30.4\n",
    "playlists_path = \"../data/Takeout/YouTube and YouTube Music/playlists\""
   ]
  },
  {
   "cell_type": "code",
   "execution_count": null,
   "metadata": {},
   "outputs": [],
   "source": [
    "G = load_graph()"
   ]
  },
  {
   "cell_type": "code",
   "execution_count": null,
   "metadata": {},
   "outputs": [],
   "source": [
    "def scrape_playlist(playlist_name, G):\n",
    "    ids_to_add, times_added = get_exported_youtube_playlist_ids(\n",
    "        f\"{playlists_path}/{playlist_name}.csv\"\n",
    "    )\n",
    "\n",
    "    scrape_from_list(ids_to_add, G, skip_if_fresher_than=seconds_in_month)\n",
    "\n",
    "    # add data about the time they were added\n",
    "    for id_, time_added in zip(ids_to_add, times_added):\n",
    "        if id_ in G:\n",
    "            G.nodes[id_][\"time_added\"] = time_added\n",
    "            G.nodes[id_][\"from\"] = playlist_name"
   ]
  },
  {
   "cell_type": "markdown",
   "metadata": {},
   "source": [
    "# Scrape all playlists"
   ]
  },
  {
   "cell_type": "code",
   "execution_count": null,
   "metadata": {},
   "outputs": [],
   "source": [
    "for filename in os.listdir(playlists_path):\n",
    "    playlist_name = re.match(\"(.*)\\.csv\", filename)[1]\n",
    "\n",
    "    print()\n",
    "    print(\"scraping: \", playlist_name)\n",
    "    scrape_playlist(playlist_name, G)"
   ]
  },
  {
   "cell_type": "code",
   "execution_count": null,
   "metadata": {},
   "outputs": [],
   "source": [
    "save_graph(G)"
   ]
  },
  {
   "cell_type": "markdown",
   "metadata": {},
   "source": [
    "# Scrape neighborhood of recently liked videos\n"
   ]
  },
  {
   "cell_type": "code",
   "execution_count": null,
   "metadata": {},
   "outputs": [],
   "source": [
    "seconds_in_year = 60 * 60 * 24 * 365\n",
    "start_time = time() - seconds_in_year * 3\n",
    "sources = get_from_playlists_from_time_range(G, start_time)\n",
    "print(len(sources))"
   ]
  },
  {
   "cell_type": "code",
   "execution_count": null,
   "metadata": {},
   "outputs": [],
   "source": [
    "_, out_nodes = zip(*G.out_edges(sources))\n",
    "print(len(out_nodes))\n",
    "out_nodes = set(out_nodes)\n",
    "print(len(out_nodes))"
   ]
  },
  {
   "cell_type": "code",
   "execution_count": null,
   "metadata": {},
   "outputs": [],
   "source": [
    "scrape_from_list(out_nodes, G, skip_if_fresher_than=seconds_in_month)"
   ]
  },
  {
   "cell_type": "code",
   "execution_count": null,
   "metadata": {},
   "outputs": [],
   "source": [
    "save_graph(G)"
   ]
  },
  {
   "cell_type": "code",
   "execution_count": null,
   "metadata": {},
   "outputs": [],
   "source": []
  },
  {
   "cell_type": "code",
   "execution_count": null,
   "metadata": {},
   "outputs": [],
   "source": []
  }
 ],
 "metadata": {
  "kernelspec": {
   "display_name": "youtube-recommender",
   "language": "python",
   "name": "youtube-recommender"
  },
  "language_info": {
   "codemirror_mode": {
    "name": "ipython",
    "version": 3
   },
   "file_extension": ".py",
   "mimetype": "text/x-python",
   "name": "python",
   "nbconvert_exporter": "python",
   "pygments_lexer": "ipython3",
   "version": "3.9.6"
  }
 },
 "nbformat": 4,
 "nbformat_minor": 4
}
