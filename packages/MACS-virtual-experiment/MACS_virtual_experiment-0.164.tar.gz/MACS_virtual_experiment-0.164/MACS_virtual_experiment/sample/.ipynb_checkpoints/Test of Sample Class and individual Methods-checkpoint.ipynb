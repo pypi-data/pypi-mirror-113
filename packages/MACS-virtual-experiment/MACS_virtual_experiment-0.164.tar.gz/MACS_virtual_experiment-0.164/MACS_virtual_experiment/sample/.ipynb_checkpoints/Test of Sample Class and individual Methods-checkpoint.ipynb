{
 "cells": [
  {
   "cell_type": "code",
   "execution_count": 1,
   "metadata": {},
   "outputs": [],
   "source": [
    "from sample import Sample"
   ]
  },
  {
   "cell_type": "code",
   "execution_count": 4,
   "metadata": {},
   "outputs": [
    {
     "name": "stdout",
     "output_type": "stream",
     "text": [
      "Import of Ba4NbRu3O12_refined-structure.cif successful.\n"
     ]
    }
   ],
   "source": [
    "cif_test = 'Ba4NbRu3O12_refined-structure.cif'\n",
    "samp = Sample(ciffile=cif_test)\n",
    "print('Import of '+str(cif_test)+' successful.')"
   ]
  },
  {
   "cell_type": "code",
   "execution_count": null,
   "metadata": {},
   "outputs": [],
   "source": []
  }
 ],
 "metadata": {
  "kernelspec": {
   "display_name": "Python 3",
   "language": "python",
   "name": "python3"
  },
  "language_info": {
   "codemirror_mode": {
    "name": "ipython",
    "version": 3
   },
   "file_extension": ".py",
   "mimetype": "text/x-python",
   "name": "python",
   "nbconvert_exporter": "python",
   "pygments_lexer": "ipython3",
   "version": "3.6.10"
  }
 },
 "nbformat": 4,
 "nbformat_minor": 4
}
