{
 "cells": [
  {
   "cell_type": "markdown",
   "metadata": {},
   "source": [
    "## Notebook to double check functionality of the macsdata class"
   ]
  },
  {
   "cell_type": "code",
   "execution_count": 1,
   "metadata": {},
   "outputs": [],
   "source": [
    "import sys\n",
    "import os\n",
    "import numpy as np\n",
    "basedir = os.getcwd().replace('/macsdata','/')\n",
    "sys.path.append(basedir)\n",
    "from virtualMACS import virtualMACS\n",
    "from macsdata import Data\n",
    "import glob"
   ]
  },
  {
   "cell_type": "code",
   "execution_count": 2,
   "metadata": {},
   "outputs": [
    {
     "name": "stdout",
     "output_type": "stream",
     "text": [
      "WARNING: Chemical weight not in cif file. Placeholder value used but should be updated manually using: \n",
      " Material.formula_weight=(val)\n",
      "Kidney simulation directory needs to be specified.\n"
     ]
    }
   ],
   "source": [
    "test_instrument = virtualMACS('macsdata_test',cifName=os.getcwd()+'/TiO2.cif')\n",
    "test_dat = test_instrument.data"
   ]
  },
  {
   "cell_type": "code",
   "execution_count": 3,
   "metadata": {
    "scrolled": true
   },
   "outputs": [
    {
     "name": "stdout",
     "output_type": "stream",
     "text": [
      "Found 21 individual runs.\n",
      "Takes roughly 0 minutes on test machine.\n",
      "On 10/21\n",
      "On 20/21\n"
     ]
    },
    {
     "data": {
      "text/plain": [
       "1"
      ]
     },
     "execution_count": 3,
     "metadata": {},
     "output_type": "execute_result"
    }
   ],
   "source": [
    "#Try using the data class\n",
    "#Get the intensity from the spec files and print\n",
    "test_dat.kidney_sim_dir=os.getcwd()+'/test_kidney_data/'\n",
    "test_dat.generate_data_matrix()\n"
   ]
  },
  {
   "cell_type": "code",
   "execution_count": 4,
   "metadata": {},
   "outputs": [
    {
     "name": "stdout",
     "output_type": "stream",
     "text": [
      "(20,)\n",
      "2062.829041673149\n",
      "8.977815692407995\n",
      "109.49718311580713\n",
      "674.5078584397794\n",
      "2.680330560941\n",
      "25.40009558660495\n",
      "9.961618899499\n",
      "323.5504841635\n",
      "585.928784545639\n",
      "33.16721993277475\n",
      "53.64442434876844\n",
      "604.23269647\n",
      "17.8181370817498\n",
      "377.4045550546187\n",
      "497.63570805063006\n",
      "343.6341923705705\n",
      "8.162841487735609\n",
      "60.051207655759995\n",
      "31.340267712623554\n",
      "17.229504111431144\n"
     ]
    }
   ],
   "source": [
    "print(np.shape(test_dat.data_matrix['SPEC1_20'][0]))\n",
    "for i in range(20):\n",
    "    print(test_dat.data_matrix['SPEC1_20'][0][i])"
   ]
  },
  {
   "cell_type": "code",
   "execution_count": 5,
   "metadata": {
    "scrolled": true
   },
   "outputs": [
    {
     "data": {
      "text/plain": [
       "array([5.84674414e+00, 1.92773551e-01, 9.68086117e+01, 1.29805017e+01,\n",
       "       3.31476052e+02, 5.25062840e+02, 3.09930487e+02, 7.33159723e+00,\n",
       "       1.28948364e+03, 1.75678644e+02, 1.46329669e+03, 2.56521003e+02,\n",
       "       1.55489550e+01, 2.20020805e+02, 6.83611674e+02, 1.22219604e+02,\n",
       "       2.68783239e+02, 5.14216914e+01, 1.15145357e+03, 8.71458450e+00])"
      ]
     },
     "execution_count": 5,
     "metadata": {},
     "output_type": "execute_result"
    }
   ],
   "source": [
    "test_instrument.data.data_matrix['DIFF1_20'][0]"
   ]
  },
  {
   "cell_type": "code",
   "execution_count": 6,
   "metadata": {},
   "outputs": [
    {
     "data": {
      "text/plain": [
       "1"
      ]
     },
     "execution_count": 6,
     "metadata": {},
     "output_type": "execute_result"
    }
   ],
   "source": [
    "test_instrument.data.write_data_to_ng0(filename='macsdata_test',beta_1=test_instrument.monochromator.beta_1,\\\n",
    "                               beta_2=test_instrument.monochromator.beta_2)"
   ]
  },
  {
   "cell_type": "code",
   "execution_count": null,
   "metadata": {},
   "outputs": [],
   "source": []
  },
  {
   "cell_type": "code",
   "execution_count": null,
   "metadata": {},
   "outputs": [],
   "source": []
  },
  {
   "cell_type": "code",
   "execution_count": null,
   "metadata": {},
   "outputs": [],
   "source": []
  }
 ],
 "metadata": {
  "kernelspec": {
   "display_name": "Python 3",
   "language": "python",
   "name": "python3"
  },
  "language_info": {
   "codemirror_mode": {
    "name": "ipython",
    "version": 3
   },
   "file_extension": ".py",
   "mimetype": "text/x-python",
   "name": "python",
   "nbconvert_exporter": "python",
   "pygments_lexer": "ipython3",
   "version": "3.6.10"
  }
 },
 "nbformat": 4,
 "nbformat_minor": 4
}
