{
 "cells": [
  {
   "cell_type": "code",
   "execution_count": null,
   "metadata": {
    "id": "VcdfgsYSp4vO"
   },
   "outputs": [],
   "source": [
    "# default_exp core"
   ]
  },
  {
   "cell_type": "markdown",
   "metadata": {
    "id": "XbUTaukvp4vT"
   },
   "source": [
    "# Core\n",
    "\n",
    "> API details."
   ]
  },
  {
   "cell_type": "code",
   "execution_count": null,
   "metadata": {
    "id": "pYPHvrx8p4vU"
   },
   "outputs": [],
   "source": [
    "#hide\n",
    "from nbdev.showdoc import *"
   ]
  },
  {
   "cell_type": "code",
   "execution_count": 68,
   "metadata": {
    "executionInfo": {
     "elapsed": 294,
     "status": "ok",
     "timestamp": 1626142749599,
     "user": {
      "displayName": "Mike Frantz",
      "photoUrl": "https://lh3.googleusercontent.com/a-/AOh14GiGYCwZXGfGg-CE4_33PQcH9SW8fN6MyRkenN8-IA=s64",
      "userId": "08482506601269125384"
     },
     "user_tz": 420
    },
    "id": "7EraiImip4vU"
   },
   "outputs": [],
   "source": [
    "# export\n",
    "from attrdict import AttrDict\n",
    "from fastcore.basics import Path\n",
    "import subprocess"
   ]
  },
  {
   "cell_type": "markdown",
   "metadata": {
    "id": "n8bY-veMqT-L"
   },
   "source": [
    "## Running bash commands in Python"
   ]
  },
  {
   "cell_type": "code",
   "execution_count": 93,
   "metadata": {
    "executionInfo": {
     "elapsed": 347,
     "status": "ok",
     "timestamp": 1626143021336,
     "user": {
      "displayName": "Mike Frantz",
      "photoUrl": "https://lh3.googleusercontent.com/a-/AOh14GiGYCwZXGfGg-CE4_33PQcH9SW8fN6MyRkenN8-IA=s64",
      "userId": "08482506601269125384"
     },
     "user_tz": 420
    },
    "id": "pY9SKe-vqWSL"
   },
   "outputs": [],
   "source": [
    "# export\n",
    "def run_bash(cmd, return_output=True):\n",
    "    process = subprocess.Popen(cmd.split(), stdout=subprocess.PIPE)\n",
    "    output, error = process.communicate()\n",
    "    if not error:\n",
    "        print(output.decode('utf-8'))\n",
    "        if return_output:\n",
    "            return output.decode('utf-8')\n",
    "    else:\n",
    "        print(error.decode('utf-8'))\n",
    "        if return_output:\n",
    "            return error.decoe('utf-8')"
   ]
  },
  {
   "cell_type": "code",
   "execution_count": 95,
   "metadata": {
    "colab": {
     "base_uri": "https://localhost:8080/"
    },
    "executionInfo": {
     "elapsed": 275,
     "status": "ok",
     "timestamp": 1626143026536,
     "user": {
      "displayName": "Mike Frantz",
      "photoUrl": "https://lh3.googleusercontent.com/a-/AOh14GiGYCwZXGfGg-CE4_33PQcH9SW8fN6MyRkenN8-IA=s64",
      "userId": "08482506601269125384"
     },
     "user_tz": 420
    },
    "id": "WZave8yzqcAq",
    "outputId": "99c858b7-3fb8-4056-96cb-46c713240d12"
   },
   "outputs": [
    {
     "name": "stdout",
     "output_type": "stream",
     "text": [
      "00_core.ipynb\n",
      "CONTRIBUTING.md\n",
      "dessiccate\n",
      "dessiccate.egg-info\n",
      "docker-compose.yml\n",
      "docs\n",
      "index.ipynb\n",
      "LICENSE\n",
      "Makefile\n",
      "MANIFEST.in\n",
      "README.md\n",
      "settings.ini\n",
      "setup.py\n",
      "\n"
     ]
    }
   ],
   "source": [
    "out = run_bash('ls')"
   ]
  },
  {
   "cell_type": "markdown",
   "metadata": {
    "id": "QgvLNbV3p4vU"
   },
   "source": [
    "## Setting up in colab\n",
    "\n",
    "If you're in colab, you may not have the proper packages installed.\n",
    "Running this function will set you up to work in colab."
   ]
  },
  {
   "cell_type": "code",
   "execution_count": 96,
   "metadata": {
    "executionInfo": {
     "elapsed": 307,
     "status": "ok",
     "timestamp": 1626143061417,
     "user": {
      "displayName": "Mike Frantz",
      "photoUrl": "https://lh3.googleusercontent.com/a-/AOh14GiGYCwZXGfGg-CE4_33PQcH9SW8fN6MyRkenN8-IA=s64",
      "userId": "08482506601269125384"
     },
     "user_tz": 420
    },
    "id": "nPSIUI3Np4vV"
   },
   "outputs": [],
   "source": [
    "# export\n",
    "def colab_setup():\n",
    "    \"\"\"\n",
    "    Sets up for development in Google Colab.\n",
    "    Repo must be cloned in drive/colab/ directory.\n",
    "    \"\"\"\n",
    "    try:\n",
    "        from google.colab import drive\n",
    "        print('Running in colab')\n",
    "        drive.mount('/content/drive', force_remount=True)\n",
    "        _ = run_bash(\"pip install -Uqq nbdev\")\n",
    "        import os\n",
    "        os.chdir('/content/drive/MyDrive/colab/dessiccate/')\n",
    "        print(\"Working in\", os.getcwd())\n",
    "        _ = run_bash('pip install -e . --quiet')\n",
    "    except:\n",
    "        import os\n",
    "        print(\"Working in\", os.getcwd())\n",
    "        print('Running locally')"
   ]
  },
  {
   "cell_type": "code",
   "execution_count": 97,
   "metadata": {
    "colab": {
     "base_uri": "https://localhost:8080/"
    },
    "executionInfo": {
     "elapsed": 6502,
     "status": "ok",
     "timestamp": 1626143069869,
     "user": {
      "displayName": "Mike Frantz",
      "photoUrl": "https://lh3.googleusercontent.com/a-/AOh14GiGYCwZXGfGg-CE4_33PQcH9SW8fN6MyRkenN8-IA=s64",
      "userId": "08482506601269125384"
     },
     "user_tz": 420
    },
    "id": "fWao76Fup4vV",
    "outputId": "c51ba9fc-759d-4306-fd71-bf5521890b39"
   },
   "outputs": [
    {
     "name": "stdout",
     "output_type": "stream",
     "text": [
      "Running in colab\n",
      "Mounted at /content/drive\n",
      "\n",
      "Working in /content/drive/MyDrive/colab/dessiccate\n",
      "\n"
     ]
    }
   ],
   "source": [
    "colab_setup()"
   ]
  },
  {
   "cell_type": "markdown",
   "metadata": {
    "id": "l7sWcwKvp4vW"
   },
   "source": [
    "## Path\n",
    "\n",
    "Often, you want to create a new directory.\n",
    "Even if all you have is a file path, you can now call `mkdir_if_not_exists` to create the parent directory."
   ]
  },
  {
   "cell_type": "code",
   "execution_count": null,
   "metadata": {
    "id": "HD6V8xxSp4vW"
   },
   "outputs": [],
   "source": [
    "# export\n",
    "def mkdir_if_not_exists(self, parents=True):\n",
    "    \"\"\"\n",
    "    Creates the directory of the path if ot doesn't exist.\n",
    "    If the path is a file, will not make the file itself,\n",
    "    but will create the parent directory.\n",
    "    \"\"\"\n",
    "    if path.is_dir():\n",
    "        p = path\n",
    "    else:\n",
    "        p = path.parent\n",
    "    if not p.exists():\n",
    "        p.mkdir(parents=parents)\n",
    "\n",
    "Path.mkdir_if_not_exists = mkdir_if_not_exists"
   ]
  },
  {
   "cell_type": "code",
   "execution_count": null,
   "metadata": {
    "id": "XFPCGm03p4vX"
   },
   "outputs": [],
   "source": [
    "path = Path('testdir/test.txt')"
   ]
  },
  {
   "cell_type": "code",
   "execution_count": null,
   "metadata": {
    "id": "JmLsAy1Np4vX"
   },
   "outputs": [],
   "source": [
    "assert not path.exists()"
   ]
  },
  {
   "cell_type": "code",
   "execution_count": null,
   "metadata": {
    "id": "q6QF0Irdp4vX"
   },
   "outputs": [],
   "source": [
    "path.mkdir_if_not_exists()"
   ]
  },
  {
   "cell_type": "code",
   "execution_count": null,
   "metadata": {
    "id": "oj-ewLxEp4vX"
   },
   "outputs": [],
   "source": [
    "assert not path.exists()\n",
    "assert path.parent.exists()"
   ]
  },
  {
   "cell_type": "code",
   "execution_count": null,
   "metadata": {
    "id": "pi-q9M0yp4vY"
   },
   "outputs": [],
   "source": [
    "path.parent.rmdir()"
   ]
  },
  {
   "cell_type": "code",
   "execution_count": null,
   "metadata": {
    "id": "7yO4yjlEp4vY"
   },
   "outputs": [],
   "source": [
    "assert not path.parent.exists()"
   ]
  },
  {
   "cell_type": "code",
   "execution_count": null,
   "metadata": {
    "id": "Z-NKlrCWp4vY"
   },
   "outputs": [],
   "source": []
  }
 ],
 "metadata": {
  "colab": {
   "collapsed_sections": [],
   "name": "00_core.ipynb",
   "provenance": []
  },
  "kernelspec": {
   "display_name": "Python 3",
   "language": "python",
   "name": "python3"
  }
 },
 "nbformat": 4,
 "nbformat_minor": 0
}
