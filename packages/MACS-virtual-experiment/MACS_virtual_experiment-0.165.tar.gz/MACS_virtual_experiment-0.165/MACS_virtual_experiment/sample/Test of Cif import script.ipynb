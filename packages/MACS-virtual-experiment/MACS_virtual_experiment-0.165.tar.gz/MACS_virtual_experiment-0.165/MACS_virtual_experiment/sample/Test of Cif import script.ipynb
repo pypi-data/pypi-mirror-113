{
 "cells": [
  {
   "cell_type": "code",
   "execution_count": 2,
   "metadata": {},
   "outputs": [],
   "source": [
    "from parseCif import *"
   ]
  },
  {
   "cell_type": "code",
   "execution_count": 3,
   "metadata": {
    "scrolled": true
   },
   "outputs": [],
   "source": [
    "testcif1 = 'Aluminum.cif'\n",
    "testcif2 = 'Ba4NbRu3O12_refined-structure.cif'\n",
    "\n",
    "outdict_Al = parseCIF(testcif1)\n",
    "outdict_BNRO = parseCIF(testcif2)"
   ]
  },
  {
   "cell_type": "code",
   "execution_count": 9,
   "metadata": {},
   "outputs": [
    {
     "name": "stdout",
     "output_type": "stream",
     "text": [
      "['+x,+y,+z', '-y,x-y,+z', 'y-x,-x,+z', 'y-x,+y,+z', '-y,-x,+z', '+x,x-y,+z', '-x,-y,-z', '+y,y-x,-z', 'x-y,+x,-z', 'x-y,-y,-z', '+y,+x,-z', '-x,y-x,-z', '+x+1/3,+y+2/3,+z+2/3', '-y+1/3,x-y+2/3,+z+2/3', 'y-x+1/3,-x+2/3,+z+2/3', 'y-x+1/3,+y+2/3,+z+2/3', '-y+1/3,-x+2/3,+z+2/3', '+x+1/3,x-y+2/3,+z+2/3', '-x+2/3,-y+1/3,-z+1/3', '+y+2/3,y-x+1/3,-z+1/3', 'x-y+2/3,+x+1/3,-z+1/3', 'x-y+2/3,-y+1/3,-z+1/3', '+y+2/3,+x+1/3,-z+1/3', '-x+2/3,y-x+1/3,-z+1/3', '+x+2/3,+y+1/3,+z+1/3', '-y+2/3,x-y+1/3,+z+1/3', 'y-x+2/3,-x+1/3,+z+1/3', 'y-x+2/3,+y+1/3,+z+1/3', '-y+2/3,-x+1/3,+z+1/3', '+x+2/3,x-y+1/3,+z+1/3', '-x+1/3,-y+2/3,-z+2/3', '+y+1/3,y-x+2/3,-z+2/3', 'x-y+1/3,+x+2/3,-z+2/3', 'x-y+1/3,-y+2/3,-z+2/3', '+y+1/3,+x+2/3,-z+2/3', '-x+1/3,y-x+2/3,-z+2/3']\n"
     ]
    }
   ],
   "source": [
    "print(outdict_BNRO['_symmetry_equiv_pos_as_xyz'])"
   ]
  },
  {
   "cell_type": "code",
   "execution_count": null,
   "metadata": {},
   "outputs": [],
   "source": []
  }
 ],
 "metadata": {
  "kernelspec": {
   "display_name": "Python 3",
   "language": "python",
   "name": "python3"
  }
 },
 "nbformat": 4,
 "nbformat_minor": 4
}
