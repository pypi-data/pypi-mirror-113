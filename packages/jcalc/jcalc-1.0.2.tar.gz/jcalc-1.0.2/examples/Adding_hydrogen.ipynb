{
 "cells": [
  {
   "cell_type": "markdown",
   "id": "ca3afdb1",
   "metadata": {},
   "source": [
    "# Adding hydrogen on frames\n",
    "\n",
    "## This tutorial is going to show how to add hydrogens automatically in frames from an united-atom force field simulation."
   ]
  },
  {
   "cell_type": "code",
   "execution_count": 1,
   "id": "49e21f52",
   "metadata": {},
   "outputs": [],
   "source": [
    "def print_file(file):\n",
    "    with open(file, \"r\") as f:\n",
    "        [print(line) for line in f.readlines()]"
   ]
  },
  {
   "cell_type": "markdown",
   "id": "df3d0865",
   "metadata": {},
   "source": [
    "First, before running the automatic pipeline, you will need to know the ID of the hydrogen atoms that are going to  be added to the structures. \n",
    "\n",
    "First, extract a PDB frame from the simulation. Then, we'll add hydrogens to this structure using obabel. We use obabel because this is the method used in jcalc. "
   ]
  },
  {
   "cell_type": "code",
   "execution_count": 2,
   "id": "35f61f6c",
   "metadata": {},
   "outputs": [
    {
     "name": "stdout",
     "output_type": "stream",
     "text": [
      "1 molecule converted\r\n"
     ]
    }
   ],
   "source": [
    "!obabel -ipdb no_hydro.pdb -opdb -O with_hydro.pdb -h"
   ]
  },
  {
   "cell_type": "markdown",
   "id": "00f9cc68",
   "metadata": {},
   "source": [
    "Then, having the new molecule with no polar hydrogens added (\"with_hydro.pdb\"), you can check your desired atoms ID in pymol or chimera! \n",
    "\n",
    "Below, I'll show the H atoms added and it's IDs. You will need it to create the j_input file with the dihedral atoms."
   ]
  },
  {
   "cell_type": "code",
   "execution_count": 3,
   "id": "77c058de",
   "metadata": {},
   "outputs": [
    {
     "data": {
      "text/html": [
       "<table><tr><td><img src='img/without_hydro.png'></td><td><img src='img/with_hydro.png'></td></tr></table>"
      ],
      "text/plain": [
       "<IPython.core.display.HTML object>"
      ]
     },
     "metadata": {},
     "output_type": "display_data"
    }
   ],
   "source": [
    "from IPython.display import HTML, display\n",
    "display(HTML(\"<table><tr><td><img src='img/without_hydro.png'></td><td><img src='img/with_hydro.png'></td></tr></table>\"))"
   ]
  },
  {
   "cell_type": "code",
   "execution_count": 4,
   "id": "27b1a30d",
   "metadata": {},
   "outputs": [
    {
     "data": {
      "text/html": [
       "<table><tr><td><img src='img/without_hydro_id.png'></td><td><img src='img/with_hydro_id.png'></td></tr></table>"
      ],
      "text/plain": [
       "<IPython.core.display.HTML object>"
      ]
     },
     "metadata": {},
     "output_type": "display_data"
    }
   ],
   "source": [
    "from IPython.display import HTML, display\n",
    "display(HTML(\"<table><tr><td><img src='img/without_hydro_id.png'></td><td><img src='img/with_hydro_id.png'></td></tr></table>\"))"
   ]
  },
  {
   "cell_type": "markdown",
   "id": "d5dbb7bc",
   "metadata": {},
   "source": [
    "We can see that we added the non-polar hydrogens, so now we can calculate J values such as H1,H2, since these hydrogens are non-polar. \n",
    "\n",
    "We can follow the normal JCalc execution now, creating the j_input file with ID for each dihedral.\n",
    "\n",
    "In this example, we are only calculating the H1,H2 J value, from the H1-C1-C2-H2 dihedral."
   ]
  },
  {
   "cell_type": "code",
   "execution_count": 5,
   "id": "db0c0793",
   "metadata": {},
   "outputs": [],
   "source": [
    "with open(\"j_input.tsv\", \"w\") as j_input:\n",
    "    #H1, C1, C2, H2\n",
    "    j_input.write(\"18\\t1\\t3\\t19\\n\")"
   ]
  },
  {
   "cell_type": "markdown",
   "id": "6ee9842c",
   "metadata": {},
   "source": [
    "### IMPORTANT: If you want to add non-polar hydrogens to your simulation, add the -hydro flag"
   ]
  },
  {
   "cell_type": "code",
   "execution_count": 6,
   "id": "c5d60a58",
   "metadata": {},
   "outputs": [
    {
     "name": "stdout",
     "output_type": "stream",
     "text": [
      "                     :-) GROMACS - gmx trjconv, 2018.1 (-:\n",
      "\n",
      "                            GROMACS is written by:\n",
      "     Emile Apol      Rossen Apostolov      Paul Bauer     Herman J.C. Berendsen\n",
      "    Par Bjelkmar    Aldert van Buuren   Rudi van Drunen     Anton Feenstra  \n",
      "  Gerrit Groenhof    Aleksei Iupinov   Christoph Junghans   Anca Hamuraru   \n",
      " Vincent Hindriksen Dimitrios Karkoulis    Peter Kasson        Jiri Kraus    \n",
      "  Carsten Kutzner      Per Larsson      Justin A. Lemkul    Viveca Lindahl  \n",
      "  Magnus Lundborg   Pieter Meulenhoff    Erik Marklund      Teemu Murtola   \n",
      "    Szilard Pall       Sander Pronk      Roland Schulz     Alexey Shvetsov  \n",
      "   Michael Shirts     Alfons Sijbers     Peter Tieleman    Teemu Virolainen \n",
      " Christian Wennberg    Maarten Wolf   \n",
      "                           and the project leaders:\n",
      "        Mark Abraham, Berk Hess, Erik Lindahl, and David van der Spoel\n",
      "\n",
      "Copyright (c) 1991-2000, University of Groningen, The Netherlands.\n",
      "Copyright (c) 2001-2017, The GROMACS development team at\n",
      "Uppsala University, Stockholm University and\n",
      "the Royal Institute of Technology, Sweden.\n",
      "check out http://www.gromacs.org for more information.\n",
      "\n",
      "GROMACS is free software; you can redistribute it and/or modify it\n",
      "under the terms of the GNU Lesser General Public License\n",
      "as published by the Free Software Foundation; either version 2.1\n",
      "of the License, or (at your option) any later version.\n",
      "\n",
      "GROMACS:      gmx trjconv, version 2018.1\n",
      "Executable:   /usr/bin/gmx\n",
      "Data prefix:  /usr\n",
      "Working dir:  /home/joao/laboratorio/jcalc/examples\n",
      "Command line:\n",
      "  gmx trjconv -s monosac.tpr -f monosac.xtc -sep -skip 100000 -o /home/joao/laboratorio/jcalc/examples/framesNone/frame_.pdb -pbc mol -center\n",
      "\n",
      "Will write pdb: Protein data bank file\n",
      "Reading file monosac.tpr, VERSION 5.1.4 (single precision)\n",
      "Reading file monosac.tpr, VERSION 5.1.4 (single precision)\n",
      "Select group for centering\n",
      "Group     0 (         System) has  2051 elements\n",
      "Group     1 (          Other) has    17 elements\n",
      "Group     2 (           HAID) has    17 elements\n",
      "Group     3 (          Water) has  2034 elements\n",
      "Group     4 (            SOL) has  2034 elements\n",
      "Group     5 (      non-Water) has    17 elements\n",
      "Select a group: Selected 5: 'non-Water'\n",
      "Select group for output\n",
      "Group     0 (         System) has  2051 elements\n",
      "Group     1 (          Other) has    17 elements\n",
      "Group     2 (           HAID) has    17 elements\n",
      "Group     3 (          Water) has  2034 elements\n",
      "Group     4 (            SOL) has  2034 elements\n",
      "Group     5 (      non-Water) has    17 elements\n",
      "Select a group: Selected 5: 'non-Water'\n",
      "Reading frame       0 time    0.000   \n",
      "Precision of monosac.xtc is 0.001 (nm)\n",
      "Last frame     500000 time 1000000.000    ->  frame      5 time 1000000.000      \n",
      "\n",
      "\n",
      "GROMACS reminds you: \"Why, how now, Claudio ! Whence Comes this Restraint ?\" (Lucio in Measure for measure, Act 1, Scene 4, William Shakespeare)\n",
      "\n",
      "11 molecule molecule converted converted\n",
      "\n",
      "1 molecule converted\n",
      "1 molecule converted\n",
      "1 molecule converted\n",
      "1 molecule converted\n",
      "/home/joao/.venv/jcalc/lib/python3.7/site-packages/Bio/PDB/PDBParser.py:399: PDBConstructionWarning: Ignoring unrecognized record 'COMPND' at line 5\n",
      "  PDBConstructionWarning,\n",
      "/home/joao/.venv/jcalc/lib/python3.7/site-packages/Bio/PDB/PDBParser.py:399: PDBConstructionWarning: Ignoring unrecognized record 'AUTHOR' at line 6\n",
      "  PDBConstructionWarning,\n",
      "/home/joao/.venv/jcalc/lib/python3.7/site-packages/Bio/PDB/PDBParser.py:399: PDBConstructionWarning: Ignoring unrecognized record 'CRYST1' at line 7\n",
      "  PDBConstructionWarning,\n",
      "/home/joao/.venv/jcalc/lib/python3.7/site-packages/Bio/PDB/PDBParser.py:399: PDBConstructionWarning: Ignoring unrecognized record 'COMPND' at line 5\n",
      "  PDBConstructionWarning,\n",
      "/home/joao/.venv/jcalc/lib/python3.7/site-packages/Bio/PDB/PDBParser.py:399: PDBConstructionWarning: Ignoring unrecognized record 'AUTHOR' at line 6\n",
      "  PDBConstructionWarning,\n",
      "/home/joao/.venv/jcalc/lib/python3.7/site-packages/Bio/PDB/PDBParser.py:399: PDBConstructionWarning: Ignoring unrecognized record 'CRYST1' at line 7\n",
      "  PDBConstructionWarning,\n",
      "/home/joao/.venv/jcalc/lib/python3.7/site-packages/Bio/PDB/PDBParser.py:399: PDBConstructionWarning: Ignoring unrecognized record 'COMPND' at line 5\n",
      "  PDBConstructionWarning,\n",
      "/home/joao/.venv/jcalc/lib/python3.7/site-packages/Bio/PDB/PDBParser.py:399: PDBConstructionWarning: Ignoring unrecognized record 'AUTHOR' at line 6\n",
      "  PDBConstructionWarning,\n",
      "/home/joao/.venv/jcalc/lib/python3.7/site-packages/Bio/PDB/PDBParser.py:399: PDBConstructionWarning: Ignoring unrecognized record 'CRYST1' at line 7\n",
      "  PDBConstructionWarning,\n",
      "/home/joao/.venv/jcalc/lib/python3.7/site-packages/Bio/PDB/PDBParser.py:399: PDBConstructionWarning: Ignoring unrecognized record 'COMPND' at line 5\n",
      "  PDBConstructionWarning,\n",
      "/home/joao/.venv/jcalc/lib/python3.7/site-packages/Bio/PDB/PDBParser.py:399: PDBConstructionWarning: Ignoring unrecognized record 'AUTHOR' at line 6\n",
      "  PDBConstructionWarning,\n",
      "/home/joao/.venv/jcalc/lib/python3.7/site-packages/Bio/PDB/PDBParser.py:399: PDBConstructionWarning: Ignoring unrecognized record 'CRYST1' at line 7\n",
      "  PDBConstructionWarning,\n",
      "/home/joao/.venv/jcalc/lib/python3.7/site-packages/Bio/PDB/PDBParser.py:399: PDBConstructionWarning: Ignoring unrecognized record 'COMPND' at line 5\n",
      "  PDBConstructionWarning,\n",
      "/home/joao/.venv/jcalc/lib/python3.7/site-packages/Bio/PDB/PDBParser.py:399: PDBConstructionWarning: Ignoring unrecognized record 'AUTHOR' at line 6\n",
      "  PDBConstructionWarning,\n",
      "/home/joao/.venv/jcalc/lib/python3.7/site-packages/Bio/PDB/PDBParser.py:399: PDBConstructionWarning: Ignoring unrecognized record 'CRYST1' at line 7\n",
      "  PDBConstructionWarning,\n",
      "/home/joao/.venv/jcalc/lib/python3.7/site-packages/Bio/PDB/PDBParser.py:399: PDBConstructionWarning: Ignoring unrecognized record 'COMPND' at line 5\n",
      "  PDBConstructionWarning,\n",
      "/home/joao/.venv/jcalc/lib/python3.7/site-packages/Bio/PDB/PDBParser.py:399: PDBConstructionWarning: Ignoring unrecognized record 'AUTHOR' at line 6\n",
      "  PDBConstructionWarning,\n",
      "/home/joao/.venv/jcalc/lib/python3.7/site-packages/Bio/PDB/PDBParser.py:399: PDBConstructionWarning: Ignoring unrecognized record 'CRYST1' at line 7\n",
      "  PDBConstructionWarning,\n"
     ]
    }
   ],
   "source": [
    "!jcalc -x monosac.xtc -t monosac.tpr -skip 100000 -n j_input.tsv -hydro"
   ]
  },
  {
   "cell_type": "code",
   "execution_count": 7,
   "id": "53973996",
   "metadata": {},
   "outputs": [
    {
     "name": "stdout",
     "output_type": "stream",
     "text": [
      "18,19_mean:\t4.84\n",
      "\n",
      "18,19_stdev:\t0.87\n",
      "\n"
     ]
    }
   ],
   "source": [
    "print_file(\"statistical_results.txt\")"
   ]
  },
  {
   "cell_type": "code",
   "execution_count": 8,
   "id": "db190ac5",
   "metadata": {},
   "outputs": [
    {
     "name": "stdout",
     "output_type": "stream",
     "text": [
      "frame_0.pdb\t5.09\n",
      "\n",
      "frame_1.pdb\t5.45\n",
      "\n",
      "frame_2.pdb\t4.48\n",
      "\n",
      "frame_3.pdb\t4.13\n",
      "\n",
      "frame_4.pdb\t6.11\n",
      "\n",
      "frame_5.pdb\t3.81\n",
      "\n"
     ]
    }
   ],
   "source": [
    "print_file(\"18,19_values.tsv\")"
   ]
  }
 ],
 "metadata": {
  "kernelspec": {
   "display_name": "Python 3",
   "language": "python",
   "name": "python3"
  },
  "language_info": {
   "codemirror_mode": {
    "name": "ipython",
    "version": 3
   },
   "file_extension": ".py",
   "mimetype": "text/x-python",
   "name": "python",
   "nbconvert_exporter": "python",
   "pygments_lexer": "ipython3",
   "version": "3.7.8"
  }
 },
 "nbformat": 4,
 "nbformat_minor": 5
}
