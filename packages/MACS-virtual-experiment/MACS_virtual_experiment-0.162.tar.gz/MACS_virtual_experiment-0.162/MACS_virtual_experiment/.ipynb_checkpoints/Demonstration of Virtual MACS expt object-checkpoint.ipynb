{
 "cells": [
  {
   "cell_type": "code",
   "execution_count": 3,
   "metadata": {},
   "outputs": [
    {
     "name": "stdout",
     "output_type": "stream",
     "text": [
      "/media/sf_OneDrive_-_Johns_Hopkins/MACS_McStas_interface/MACS-Mcstas-Interface/MACS_virtual_experiment\n"
     ]
    }
   ],
   "source": [
    "from virtualMACS import virtualMACS\n",
    "import os\n",
    "cwd = os.getcwd()\n",
    "print(cwd)"
   ]
  },
  {
   "cell_type": "markdown",
   "metadata": {},
   "source": [
    "# Initialize the object with a clear name and a cif file"
   ]
  },
  {
   "cell_type": "code",
   "execution_count": 6,
   "metadata": {},
   "outputs": [
    {
     "name": "stdout",
     "output_type": "stream",
     "text": [
      "WARNING: Chemical weight not in cif file. Placeholder value used but should be updated manually using: \n",
      " Material.formula_weight=(val)\n"
     ]
    }
   ],
   "source": [
    "testobj = virtualMACS('test experiment',cifName=cwd+'/sample/TiO2.cif')\n",
    "testobj.sample.formula_weight=79.87"
   ]
  },
  {
   "cell_type": "markdown",
   "metadata": {},
   "source": [
    "## Set the sample parameters\n",
    "\n",
    "In this example, we use a box of the same dimensions as in the reference experiment. (4.3mm  x 3.3mm x 1.3 mm) (x,y,z)"
   ]
  },
  {
   "cell_type": "code",
   "execution_count": 11,
   "metadata": {},
   "outputs": [],
   "source": [
    "testobj.sample.sample_shape='box'\n",
    "testobj.sample.sample_widx=4.3e-3\n",
    "testobj.sample.sample_widy=3.3e-3\n",
    "testobj.sample.sample_widz=1.3e-3\n",
    "testobj.sample.sample_tilt=0.0\n",
    "testobj.sample.sample_length=0\n",
    "testobj.sample.sample_diameter_d=0"
   ]
  },
  {
   "cell_type": "markdown",
   "metadata": {},
   "source": [
    "## Assign Monochromator Parameters\n",
    "In this example, we use Ei=5meV = Ef"
   ]
  },
  {
   "cell_type": "code",
   "execution_count": null,
   "metadata": {},
   "outputs": [],
   "source": [
    "testobj.monochromator.Ei = 5.0\n",
    "testobj.monochromator.Ef = 5.0"
   ]
  }
 ],
 "metadata": {
  "kernelspec": {
   "display_name": "Python 3",
   "language": "python",
   "name": "python3"
  },
  "language_info": {
   "codemirror_mode": {
    "name": "ipython",
    "version": 3
   },
   "file_extension": ".py",
   "mimetype": "text/x-python",
   "name": "python",
   "nbconvert_exporter": "python",
   "pygments_lexer": "ipython3",
   "version": "3.6.10"
  }
 },
 "nbformat": 4,
 "nbformat_minor": 4
}
