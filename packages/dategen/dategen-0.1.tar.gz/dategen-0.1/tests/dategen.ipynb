{
 "cells": [
  {
   "cell_type": "markdown",
   "metadata": {},
   "source": [
    "<div id=\"table-of-contents\">\n",
    "<h2>Table of Contents</h2>\n",
    "<div id=\"text-table-of-contents\">\n",
    "<ul>\n",
    "<li><a href=\"#orge070433\">1. import</a></li>\n",
    "<li><a href=\"#orgff7965c\">2. type list next len</a></li>\n",
    "<li><a href=\"#org503edc3\">3. hello</a></li>\n",
    "</ul>\n",
    "</div>\n",
    "</div>\n"
   ]
  },
  {
   "cell_type": "markdown",
   "metadata": {
    "il": null
   },
   "source": [
    "\n",
    "<a id=\"orge070433\"></a>\n",
    "\n",
    "# import\n",
    "\n"
   ]
  },
  {
   "cell_type": "code",
   "execution_count": 1,
   "metadata": {},
   "outputs": [
    {
     "name": "stdout",
     "output_type": "stream",
     "text": [
      "Help on function backward in module dategen.dategen:\n",
      "\n",
      "backward(my_n_day=4000)\n",
      "    A datetime generator, backward from yesterday.\n",
      "\n"
     ]
    }
   ],
   "source": [
    "import os, sys\n",
    "p = os.path.abspath('..')\n",
    "sys.path.insert(1, p)\n",
    "\n",
    "import dategen.dategen\n",
    "g = dategen.dategen.backward\n",
    "help(g)"
   ]
  },
  {
   "cell_type": "markdown",
   "metadata": {
    "il": null
   },
   "source": [
    "\n",
    "<a id=\"orgff7965c\"></a>\n",
    "\n",
    "# type list next len\n",
    "\n"
   ]
  },
  {
   "cell_type": "code",
   "execution_count": 2,
   "metadata": {},
   "outputs": [],
   "source": [
    "x=g()"
   ]
  },
  {
   "cell_type": "code",
   "execution_count": 3,
   "metadata": {},
   "outputs": [
    {
     "data": {
      "text/plain": [
       "4000"
      ]
     },
     "execution_count": 3,
     "metadata": {},
     "output_type": "execute_result"
    }
   ],
   "source": [
    "# only the last command will be displayed.\n",
    "\n",
    "# type( x )  # generator\n",
    "\n",
    "# list( x )  # 4000 date\n",
    "\n",
    "# next( x )  \n",
    "\n",
    "len( list(x) )  # 4000"
   ]
  },
  {
   "cell_type": "markdown",
   "metadata": {
    "il": null
   },
   "source": [
    "\n",
    "<a id=\"org503edc3\"></a>\n",
    "\n",
    "# hello\n",
    "\n"
   ]
  },
  {
   "cell_type": "markdown",
   "metadata": {},
   "source": [
    "hold control and press c release c\n",
    "\n",
    "hold control and press e release e\n",
    "\n",
    "hold control and press s release s\n",
    "\n",
    "j\n",
    "\n",
    "j\n"
   ]
  },
  {
   "cell_type": "code",
   "execution_count": 1,
   "metadata": {},
   "outputs": [
    {
     "name": "stdout",
     "output_type": "stream",
     "text": []
    }
   ],
   "source": [
    "print(\"hello in block\")"
   ]
  }
 ],
 "metadata": {
  "il": null,
  "kernelspec": {
   "display_name": "Python 3 (ipykernel)",
   "language": "python",
   "name": "python3"
  },
  "language_info": {
   "codemirror_mode": {
    "name": "ipython",
    "version": 3
   },
   "file_extension": ".py",
   "mimetype": "text/x-python",
   "name": "python",
   "nbconvert_exporter": "python",
   "pygments_lexer": "ipython3",
   "version": "3.9.5"
  }
 },
 "nbformat": 4,
 "nbformat_minor": 4
}
