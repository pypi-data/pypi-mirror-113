{
 "cells": [
  {
   "cell_type": "code",
   "execution_count": 1,
   "metadata": {},
   "outputs": [],
   "source": [
    "from sample import Sample"
   ]
  },
  {
   "cell_type": "code",
   "execution_count": 4,
   "metadata": {},
   "outputs": [
    {
     "name": "stdout",
     "output_type": "stream",
     "text": [
      "Import of Ba4NbRu3O12_refined-structure.cif successful.\n"
     ]
    }
   ],
   "source": [
    "cif_test = 'Ba4NbRu3O12_refined-structure.cif'\n",
    "samp = Sample(ciffile=cif_test)\n",
    "print('Import of '+str(cif_test)+' successful.')"
   ]
  },
  {
   "cell_type": "markdown",
   "metadata": {},
   "source": [
    "## Print some of the elements of the object"
   ]
  },
  {
   "cell_type": "code",
   "execution_count": 8,
   "metadata": {},
   "outputs": [
    {
     "name": "stdout",
     "output_type": "stream",
     "text": [
      "a = \n",
      "5.75733\n",
      "b = \n",
      "5.75733\n",
      "V = \n",
      "820.619\n"
     ]
    }
   ],
   "source": [
    "print('a = ')\n",
    "print(samp.a)\n",
    "print('b = ')\n",
    "print(samp.b)\n",
    "print('V = ')\n",
    "print(samp.cell_vol)"
   ]
  },
  {
   "cell_type": "markdown",
   "metadata": {},
   "source": [
    "## Generating symmetry operations"
   ]
  },
  {
   "cell_type": "code",
   "execution_count": 9,
   "metadata": {},
   "outputs": [
    {
     "name": "stdout",
     "output_type": "stream",
     "text": [
      "[['+x', '+y', '+z'], ['-y', 'x-y', '+z'], ['y-x', '-x', '+z'], ['y-x', '+y', '+z']]\n"
     ]
    }
   ],
   "source": [
    "symops = samp.generate_symmetry_operations()\n",
    "print(symops[0:4])"
   ]
  },
  {
   "cell_type": "markdown",
   "metadata": {},
   "source": [
    "## Generate unit cell atomic positions"
   ]
  },
  {
   "cell_type": "code",
   "execution_count": 11,
   "metadata": {},
   "outputs": [
    {
     "name": "stdout",
     "output_type": "stream",
     "text": [
      "[['Ba', 5.07, 0.0, 0.0, 0.12933, 1.0], ['Ba', 5.07, 0.0, 0.0, 0.87067, 1.0], ['Ba', 5.07, 0.33333, 0.66667, 0.796, 1.0], ['Ba', 5.07, 0.66667, 0.33333, 0.204, 1.0]]\n"
     ]
    }
   ],
   "source": [
    "unit_cell = samp.gen_unit_cell_positions()\n",
    "print(unit_cell[0:4])"
   ]
  },
  {
   "cell_type": "markdown",
   "metadata": {},
   "source": [
    "## Generate reflections"
   ]
  },
  {
   "cell_type": "code",
   "execution_count": 14,
   "metadata": {},
   "outputs": [
    {
     "name": "stdout",
     "output_type": "stream",
     "text": [
      "[[-1.90000000e+01 -1.90000000e+01 -1.90000000e+01  1.01466308e-05]\n",
      " [-1.90000000e+01 -1.90000000e+01 -1.80000000e+01  5.67774027e+00]\n",
      " [-1.90000000e+01 -1.90000000e+01 -1.70000000e+01  2.07630877e-05]\n",
      " [-1.90000000e+01 -1.90000000e+01 -1.60000000e+01  2.62005445e-06]\n",
      " [-1.90000000e+01 -1.90000000e+01 -1.50000000e+01  1.38741220e+01]\n",
      " [-1.90000000e+01 -1.90000000e+01 -1.40000000e+01  3.83953921e-06]\n",
      " [-1.90000000e+01 -1.90000000e+01 -1.30000000e+01  2.61659079e-06]\n",
      " [-1.90000000e+01 -1.90000000e+01 -1.20000000e+01  1.79661524e+02]\n",
      " [-1.90000000e+01 -1.90000000e+01 -1.10000000e+01  1.71878694e-06]\n",
      " [-1.90000000e+01 -1.90000000e+01 -1.00000000e+01  3.62089966e-06]]\n"
     ]
    }
   ],
   "source": [
    "hkl_list = samp.gen_reflection_list()\n",
    "print(hkl_list[0:10])"
   ]
  },
  {
   "cell_type": "markdown",
   "metadata": {},
   "source": [
    "## Fetch a specific reflection"
   ]
  },
  {
   "cell_type": "code",
   "execution_count": 20,
   "metadata": {},
   "outputs": [
    {
     "name": "stdout",
     "output_type": "stream",
     "text": [
      "[ 1.          1.          0.         58.89346961]\n"
     ]
    }
   ],
   "source": [
    "sf_110 = samp.fetch_F_HKL(1,1,0)\n",
    "print(sf_110)"
   ]
  },
  {
   "cell_type": "markdown",
   "metadata": {},
   "source": [
    "## Write the generated reflection list to a mock Crystallographica lau file"
   ]
  },
  {
   "cell_type": "code",
   "execution_count": null,
   "metadata": {},
   "outputs": [],
   "source": []
  }
 ],
 "metadata": {
  "kernelspec": {
   "display_name": "Python 3",
   "language": "python",
   "name": "python3"
  },
  "language_info": {
   "codemirror_mode": {
    "name": "ipython",
    "version": 3
   },
   "file_extension": ".py",
   "mimetype": "text/x-python",
   "name": "python",
   "nbconvert_exporter": "python",
   "pygments_lexer": "ipython3",
   "version": "3.6.10"
  }
 },
 "nbformat": 4,
 "nbformat_minor": 4
}
