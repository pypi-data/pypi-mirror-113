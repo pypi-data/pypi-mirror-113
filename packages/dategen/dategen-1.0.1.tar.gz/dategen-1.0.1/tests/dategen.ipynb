{
  "cells": [
    {
      "cell_type": "markdown",
      "metadata": {
      },
      "source": [
        "<div id=\"table-of-contents\">\n<h2>Table of Contents</h2>\n<div id=\"text-table-of-contents\">\n<ul>\n<li><a href=\"#org3188d78\">1. pip install and import</a></li>\n<li><a href=\"#org5d810e8\">2. import locally</a></li>\n<li><a href=\"#orgfaad587\">3. type list next len</a></li>\n</ul>\n</div>\n</div>\n"
      ]
    },
    {
      "cell_type": "markdown",
      "metadata": {
        "il": null
      },
      "source": [
        "\n<a id=\"org3188d78\"></a>\n\n# pip install and import\n\n"
      ]
    },
    {
      "cell_type": "code",
      "metadata": {
      },
      "execution_count": 1,
      "source": [
        "import sys\n!{sys.executable} -m pip install dategen\n\nimport dategen\ng = dategen.dategen.backward\nhelp(g)"
      ],
      "outputs": [
        {
          "name": "stdout",
          "output_type": "stream",
          "text": ""
        }
      ]
    },
    {
      "cell_type": "markdown",
      "metadata": {
        "il": null
      },
      "source": [
        "\n<a id=\"org5d810e8\"></a>\n\n# import locally\n\n"
      ]
    },
    {
      "cell_type": "code",
      "metadata": {
      },
      "execution_count": 1,
      "source": [
        "import os, sys\np = os.path.abspath('..')\nsys.path.insert(1, p)\n\nimport dategen\ng = dategen.dategen.backward\nhelp(g)"
      ],
      "outputs": [
        {
          "name": "stdout",
          "output_type": "stream",
          "text": ""
        }
      ]
    },
    {
      "cell_type": "markdown",
      "metadata": {
        "il": null
      },
      "source": [
        "\n<a id=\"orgfaad587\"></a>\n\n# type list next len\n\n"
      ]
    },
    {
      "cell_type": "code",
      "metadata": {
      },
      "execution_count": 1,
      "source": [
        "x=g()"
      ],
      "outputs": [
        {
          "name": "stdout",
          "output_type": "stream",
          "text": ""
        }
      ]
    },
    {
      "cell_type": "code",
      "metadata": {
      },
      "execution_count": 1,
      "source": [
        "# only the last command will be displayed.\n\n# type( x )  # generator\n\n# list( x )  # 5000 datetime, a very long list.\n\n# next( x )  # one datetime form the generator\n\n# len( list(x) )  # 5000"
      ],
      "outputs": [
        {
          "name": "stdout",
          "output_type": "stream",
          "text": ""
        }
      ]
    }
  ],
  "metadata": {
    "kernelspec": {
      "display_name": "Python 3",
      "language": "python",
      "name": "python3"
    },
    "language_info": {
      "codemirror_mode": {
        "name": "ipython",
        "version": 3
      },
      "file_extension": ".py",
      "mimetype": "text/x-python",
      "name": "python",
      "nbconvert_exporter": "python",
      "pygments_lexer": "ipython3",
      "version": "3.5.2"
    },
    "il": null
  },
  "nbformat": 4,
  "nbformat_minor": 0
}